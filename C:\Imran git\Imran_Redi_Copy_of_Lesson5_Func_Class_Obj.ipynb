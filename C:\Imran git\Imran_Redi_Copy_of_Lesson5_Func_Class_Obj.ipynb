{
  "nbformat": 4,
  "nbformat_minor": 0,
  "metadata": {
    "colab": {
      "name": "Imran Redi Copy of Lesson5_Func_Class_Obj.ipynb",
      "provenance": [],
      "collapsed_sections": [],
      "include_colab_link": true
    },
    "kernelspec": {
      "name": "python3",
      "display_name": "Python 3"
    }
  },
  "cells": [
    {
      "cell_type": "markdown",
      "metadata": {
        "id": "view-in-github",
        "colab_type": "text"
      },
      "source": [
        "<a href=\"https://colab.research.google.com/github/imranahme/redi_python_Imran/blob/master/C%3A%5CImran%20git%5CImran_Redi_Copy_of_Lesson5_Func_Class_Obj.ipynb\" target=\"_parent\"><img src=\"https://colab.research.google.com/assets/colab-badge.svg\" alt=\"Open In Colab\"/></a>"
      ]
    },
    {
      "cell_type": "markdown",
      "metadata": {
        "id": "XyNfWmTopjX4",
        "colab_type": "text"
      },
      "source": [
        "<h1>Functions, Classes and Objects</h1>\n",
        "\n",
        "In this notebook we'll learn about functions in python and an introduction object-oriented programming in python.\n",
        "\n",
        "**At the end of the notebook, you'll find some exercises. Those exercise are to be solved as part of the homework!**"
      ]
    },
    {
      "cell_type": "markdown",
      "metadata": {
        "id": "Owi60xTUqmga",
        "colab_type": "text"
      },
      "source": [
        "# Functions"
      ]
    },
    {
      "cell_type": "code",
      "metadata": {
        "id": "a5T9IaMmmTg_",
        "colab_type": "code",
        "colab": {}
      },
      "source": [
        "def my_func(parameter_a, parameter_b=\"some value\"):\n",
        "    variable_c = 10\n",
        "\n",
        "    print(\"Parameter A has value: {}\".format(parameter_a))\n",
        "\n",
        "    print(\"Parameter B has value: {}\".format(parameter_b))\n",
        "\n",
        "    return variable_c"
      ],
      "execution_count": 0,
      "outputs": []
    },
    {
      "cell_type": "code",
      "metadata": {
        "id": "KLeOCAAoq8S1",
        "colab_type": "code",
        "outputId": "2c45f040-88bc-4b9f-cde3-971147054ec4",
        "colab": {
          "base_uri": "https://localhost:8080/",
          "height": 68
        }
      },
      "source": [
        "my_func(parameter_a=20, parameter_b=\"my_value\")"
      ],
      "execution_count": 0,
      "outputs": [
        {
          "output_type": "stream",
          "text": [
            "Parameter A has value: 20\n",
            "Parameter B has value: my_value\n"
          ],
          "name": "stdout"
        },
        {
          "output_type": "execute_result",
          "data": {
            "text/plain": [
              "10"
            ]
          },
          "metadata": {
            "tags": []
          },
          "execution_count": 11
        }
      ]
    },
    {
      "cell_type": "code",
      "metadata": {
        "id": "8c17SWFwz8uH",
        "colab_type": "code",
        "colab": {}
      },
      "source": [
        "# example 1\n",
        "def clear_data(word):\n",
        "  punctations = [\".\", \",\", \"!\"]\n",
        "  for punc in punctations:\n",
        "      word = word.replace(punc, ' ')\n",
        "  return word"
      ],
      "execution_count": 0,
      "outputs": []
    },
    {
      "cell_type": "code",
      "metadata": {
        "id": "h6Mm4Uq_JVPp",
        "colab_type": "code",
        "outputId": "247cc186-69d3-4f30-bcf9-71ece219cf6e",
        "colab": {
          "base_uri": "https://localhost:8080/",
          "height": 34
        }
      },
      "source": [
        "# example 2\n",
        "def printme(a_string):\n",
        "  print(a_string)\n",
        "\n",
        "printme(\"My name is Danial\")"
      ],
      "execution_count": 0,
      "outputs": [
        {
          "output_type": "stream",
          "text": [
            "My name is Danial\n"
          ],
          "name": "stdout"
        }
      ]
    },
    {
      "cell_type": "code",
      "metadata": {
        "id": "I28SEtceJozl",
        "colab_type": "code",
        "outputId": "ac1aef41-5fb2-4488-db27-5611025df976",
        "colab": {
          "base_uri": "https://localhost:8080/",
          "height": 34
        }
      },
      "source": [
        "import datetime\n",
        "\n",
        "# example 3\n",
        "def printDate():\n",
        "  print(datetime.datetime.now())\n",
        "\n",
        "printDate()"
      ],
      "execution_count": 0,
      "outputs": [
        {
          "output_type": "stream",
          "text": [
            "2020-04-16 18:01:46.179742\n"
          ],
          "name": "stdout"
        }
      ]
    },
    {
      "cell_type": "code",
      "metadata": {
        "id": "C8Ei8HaxJ-AJ",
        "colab_type": "code",
        "outputId": "e992cb15-3085-4b8a-b64b-1d8eb71a08dd",
        "colab": {
          "base_uri": "https://localhost:8080/",
          "height": 51
        }
      },
      "source": [
        "# example 4\n",
        "def getNameAndAge():\n",
        "  name = \"danial\"\n",
        "  age = 28\n",
        "\n",
        "  return name, age\n",
        "\n",
        "NAME, AGE = getNameAndAge()\n",
        "\n",
        "print(NAME)\n",
        "print(AGE)"
      ],
      "execution_count": 0,
      "outputs": [
        {
          "output_type": "stream",
          "text": [
            "danial\n",
            "28\n"
          ],
          "name": "stdout"
        }
      ]
    },
    {
      "cell_type": "code",
      "metadata": {
        "id": "VteiqI7iKwsb",
        "colab_type": "code",
        "outputId": "3d4fd02d-8c09-4e3a-c5fe-ca2bc60352d0",
        "colab": {
          "base_uri": "https://localhost:8080/",
          "height": 51
        }
      },
      "source": [
        "# Global vs. Local Variable\n",
        "\n",
        "total = 0; # This is global variable.\n",
        "# Function definition is here\n",
        "def sum( arg1, arg2 ):\n",
        "   # Add both the parameters and return them.\"\n",
        "   total = arg1 + arg2; # Here total is local variable.\n",
        "   print(\"Inside the function local total : \", total)\n",
        "   return total;\n",
        "\n",
        "# Now you can call sum function\n",
        "sum( 10, 24 );\n",
        "print(\"Outside the function global total : \", total) "
      ],
      "execution_count": 0,
      "outputs": [
        {
          "output_type": "stream",
          "text": [
            "Inside the function local total :  34\n",
            "Outside the function global total :  0\n"
          ],
          "name": "stdout"
        }
      ]
    },
    {
      "cell_type": "markdown",
      "metadata": {
        "id": "4vEBGLqkxcKo",
        "colab_type": "text"
      },
      "source": [
        "##Classes and Objects"
      ]
    },
    {
      "cell_type": "code",
      "metadata": {
        "id": "Mb9E0dewxf3v",
        "colab_type": "code",
        "colab": {}
      },
      "source": [
        "# Sample Class 1\n",
        "class my_class:\n",
        "\n",
        "    def __init__(self, parameter_1, parameter_2=20):\n",
        "        self.attribute_1 = parameter_1\n",
        "        self.attribute_2 = parameter_2\n",
        "\n",
        "    def my_method(self):\n",
        "        print(\"Do Something!!\")"
      ],
      "execution_count": 0,
      "outputs": []
    },
    {
      "cell_type": "code",
      "metadata": {
        "id": "WFSldR_wxlut",
        "colab_type": "code",
        "colab": {}
      },
      "source": [
        "# Sample Object 1\n",
        "my_object = my_class(\"Danial\")\n",
        "my_class.my_method()\n",
        "print(my_class.attribute_1, my_class.attribute_2)"
      ],
      "execution_count": 0,
      "outputs": []
    },
    {
      "cell_type": "code",
      "metadata": {
        "id": "tD8MxeVb1diC",
        "colab_type": "code",
        "colab": {}
      },
      "source": [
        "# Sample Class 2\n",
        "class Parrot:\n",
        "\n",
        "  _species = \"Bird\"\n",
        "\n",
        "  def __init__(self, name, age=4):\n",
        "    self.name = name\n",
        "    self.age = age\n",
        "  \n",
        "  def sings(self, song):\n",
        "    print(\"The parrot {} sings the song {} and is {} years old\".format(self.name, song, self.age))"
      ],
      "execution_count": 0,
      "outputs": []
    },
    {
      "cell_type": "code",
      "metadata": {
        "id": "e3s0bhzM1o63",
        "colab_type": "code",
        "outputId": "435baf73-d5ae-48bf-d883-724a773b37c1",
        "colab": {
          "base_uri": "https://localhost:8080/",
          "height": 119
        }
      },
      "source": [
        "# Sample Object 2\n",
        "my_parrot = Parrot(\"ABC\", 8)\n",
        "my_parrot.sings(\"Despacito\")\n",
        "print(my_parrot.name, my_parrot.age)\n",
        "my_parrot.__class__._species = \"Fish\"\n",
        "print(my_parrot.species)\n",
        "another_parrot = Parrot(\"Mithu\", 5)\n",
        "another_parrot.sings(\"Despacito\")\n",
        "print(another_parrot.name, another_parrot.age)\n",
        "print(another_parrot.__class__._species)"
      ],
      "execution_count": 0,
      "outputs": [
        {
          "output_type": "stream",
          "text": [
            "The parrot ABC sings the song Despacito and is 8 years old\n",
            "ABC 8\n",
            "Fish\n",
            "The parrot Mithu sings the song Despacito and is 5 years old\n",
            "Mithu 5\n",
            "Fish\n"
          ],
          "name": "stdout"
        }
      ]
    },
    {
      "cell_type": "code",
      "metadata": {
        "id": "ljtW2zaAUKTf",
        "colab_type": "code",
        "outputId": "bb13374d-396b-4481-c36f-8c28cd75e7d9",
        "colab": {
          "base_uri": "https://localhost:8080/",
          "height": 51
        }
      },
      "source": [
        "parrot_2 = Parrot(\"fgh\")\n",
        "print(parrot_2.name, parrot_2.age)\n",
        "parrot_2.species"
      ],
      "execution_count": 0,
      "outputs": [
        {
          "output_type": "stream",
          "text": [
            "fgh 4\n"
          ],
          "name": "stdout"
        },
        {
          "output_type": "execute_result",
          "data": {
            "text/plain": [
              "'Fish'"
            ]
          },
          "metadata": {
            "tags": []
          },
          "execution_count": 53
        }
      ]
    },
    {
      "cell_type": "code",
      "metadata": {
        "id": "0_kzB7vH1sEY",
        "colab_type": "code",
        "colab": {}
      },
      "source": [
        "# Sample Class 3\n",
        "import random\n",
        "class Employee:\n",
        "  empCount = 0\n",
        "\n",
        "  def __init__(self, name, age, designation, salary):\n",
        "    self.name = name\n",
        "    self.age = age\n",
        "    self.designation = designation\n",
        "    self.salary = salary\n",
        "    Employee.empCount += 1\n",
        "  \n",
        "  def displayCount(self):\n",
        "    print(\"Total Employee %d\" % Employee.empCount)\n",
        "\n",
        "  def displayEmployee(self):\n",
        "    print(\"Name : \", self.name,  \", Salary: \", self.salary)\n",
        "  \n",
        "  def requestForRaise(self):\n",
        "    print(\"Employee \", self.name, \" requested a raise!\")\n",
        "    emp_performance = random.randint(1, 10)\n",
        "    if emp_performance < 5:\n",
        "      print(\"Sorry, request rejected due to inadequate performance!\")\n",
        "    elif 4 > emp_performance < 8:\n",
        "      print(\"Congratulations, 5% raise approved!\")\n",
        "    else:\n",
        "      print(\"You are a model employee, 10% raise approved!!\")\n",
        "\n",
        "  "
      ],
      "execution_count": 0,
      "outputs": []
    },
    {
      "cell_type": "code",
      "metadata": {
        "id": "uxz6QTnhXZnQ",
        "colab_type": "code",
        "colab": {}
      },
      "source": [
        "emp_performance > 4 and emp_performance < 8"
      ],
      "execution_count": 0,
      "outputs": []
    },
    {
      "cell_type": "code",
      "metadata": {
        "id": "87lUNarR1sTY",
        "colab_type": "code",
        "outputId": "234911ba-fcb1-4808-d8bd-846197e2fa26",
        "colab": {
          "base_uri": "https://localhost:8080/",
          "height": 34
        }
      },
      "source": [
        "# Sample Object 3\n",
        "employee1 = Employee(\"Danial\", 28, \"Volunteer\", 0)\n",
        "employee2 = Employee(\"Michael\", 30, \"Volunteer\", 0)\n",
        "employee3 = Employee(\"XYZ\", 34, \"Student\", 300)\n",
        "\n",
        "employee3.displayCount()"
      ],
      "execution_count": 0,
      "outputs": [
        {
          "output_type": "stream",
          "text": [
            "Total Employee 7\n"
          ],
          "name": "stdout"
        }
      ]
    },
    {
      "cell_type": "code",
      "metadata": {
        "id": "goIIgdqXW4nq",
        "colab_type": "code",
        "outputId": "d6b97459-9f4e-40bf-bdcc-e2f54b568c7d",
        "colab": {
          "base_uri": "https://localhost:8080/",
          "height": 34
        }
      },
      "source": [
        "employee1 = Employee(\"ukl\", 28, \"Volunteer\", 0)\n",
        "Employee.empCount"
      ],
      "execution_count": 0,
      "outputs": [
        {
          "output_type": "execute_result",
          "data": {
            "text/plain": [
              "4"
            ]
          },
          "metadata": {
            "tags": []
          },
          "execution_count": 56
        }
      ]
    },
    {
      "cell_type": "code",
      "metadata": {
        "id": "84RjUQ1VXa2k",
        "colab_type": "code",
        "outputId": "22b906ac-6880-4c30-a998-439531acf7b4",
        "colab": {
          "base_uri": "https://localhost:8080/",
          "height": 51
        }
      },
      "source": [
        "employee1.requestForRaise()"
      ],
      "execution_count": 0,
      "outputs": [
        {
          "output_type": "stream",
          "text": [
            "Employee  Danial  requested a raise!\n",
            "You are a model employee, 10% raise approved!!\n"
          ],
          "name": "stdout"
        }
      ]
    },
    {
      "cell_type": "markdown",
      "metadata": {
        "id": "1nqkYVKwrZFl",
        "colab_type": "text"
      },
      "source": [
        "##Exercises\n",
        "\n",
        "Please only write your code in between the lines enclosed by\n",
        "\n",
        "**INSERT YOUR CODE HERE**\n",
        "\n",
        "\n",
        "\n",
        "**YOUR CODE ENDS**"
      ]
    },
    {
      "cell_type": "markdown",
      "metadata": {
        "id": "w-YQcrCguczv",
        "colab_type": "text"
      },
      "source": [
        "<h2>Sample Exercise<h2>"
      ]
    },
    {
      "cell_type": "code",
      "metadata": {
        "id": "ftLBvMVNujUr",
        "colab_type": "code",
        "colab": {}
      },
      "source": [
        "# Returns the product of numbers in the list\n",
        "def list_prod(list_of_numbers):\n",
        "  ### INSERT YOUR CODE HERE ###\n",
        "  \n",
        "  product = 1\n",
        "  for number in list_of_numbers:\n",
        "    product *= number\n",
        "  \n",
        "  return product\n",
        "\n",
        "  ### YOUR CODE ENDS ###"
      ],
      "execution_count": 0,
      "outputs": []
    },
    {
      "cell_type": "markdown",
      "metadata": {
        "colab_type": "text",
        "id": "pMrAwZBmu_Pm"
      },
      "source": [
        "Once you have added your code in the previous cell. Run the cell below to test your code on given examples."
      ]
    },
    {
      "cell_type": "code",
      "metadata": {
        "id": "Z0Qb-N0xuyXX",
        "colab_type": "code",
        "outputId": "4c4d5a6d-864e-4581-82ce-e18670c92d24",
        "colab": {
          "base_uri": "https://localhost:8080/",
          "height": 85
        }
      },
      "source": [
        "print(\"The product of numbers {} is {}. Your implementation returns {}\".format([1, 2, 3], 6, list_prod([1, 2, 3])))\n",
        "print(\"The product of numbers {} is {}. Your implementation returns {}\".format([5, 2, 3, 10], 300, list_prod([5, 2, 3, 10])))\n",
        "print(\"The product of numbers {} is {}. Your implementation returns {}\".format([5, 2, 3, -1], -30, list_prod([5, 2, 3, -1])))\n",
        "print(\"The product of numbers {} is {}. Your implementation returns {}\".format([123, 344, 98], 4146576, list_prod([123, 344, 98])))"
      ],
      "execution_count": 0,
      "outputs": [
        {
          "output_type": "stream",
          "text": [
            "The product of numbers [1, 2, 3] is 6. Your implementation returns 6\n",
            "The product of numbers [5, 2, 3, 10] is 300. Your implementation returns 300\n",
            "The product of numbers [5, 2, 3, -1] is -30. Your implementation returns -30\n",
            "The product of numbers [123, 344, 98] is 4146576. Your implementation returns 4146576\n"
          ],
          "name": "stdout"
        }
      ]
    },
    {
      "cell_type": "code",
      "metadata": {
        "id": "L62z5gEVM6ou",
        "colab_type": "code",
        "outputId": "d80c8a14-a250-48f1-dabf-5029c63bce3b",
        "colab": {
          "base_uri": "https://localhost:8080/",
          "height": 34
        }
      },
      "source": [
        "def test_list_prod(list_of_numbers, correct_answer):\n",
        "  print(\"The product of numbers {} is {}. Your implementation returns {}\".format(list_of_numbers, correct_answer, list_prod(list_of_numbers)))\n",
        "\n",
        "test_list_prod([1,2,3], 6)"
      ],
      "execution_count": 0,
      "outputs": [
        {
          "output_type": "stream",
          "text": [
            "The product of numbers [1, 2, 3] is 6. Your implementation returns 6\n"
          ],
          "name": "stdout"
        }
      ]
    },
    {
      "cell_type": "code",
      "metadata": {
        "id": "u7k2UALWNXjF",
        "colab_type": "code",
        "outputId": "42c6d270-35f2-4fe1-9ec4-11163560eeee",
        "colab": {
          "base_uri": "https://localhost:8080/",
          "height": 34
        }
      },
      "source": [
        "assert list_prod([1, 2, 3]) == 6, \"Invalid Implementation!!\"\n",
        "assert list_prod([5, 2, 3, 10]) == 300, \"Invalid Implementation!!\"\n",
        "assert list_prod([5, 2, 3, -1]) == -30, \"Invalid Implementation!!\"\n",
        "\n",
        "print(\"Tests were successful!\")"
      ],
      "execution_count": 0,
      "outputs": [
        {
          "output_type": "stream",
          "text": [
            "Tests were successful!\n"
          ],
          "name": "stdout"
        }
      ]
    },
    {
      "cell_type": "markdown",
      "metadata": {
        "id": "HPbo6sh5uWBI",
        "colab_type": "text"
      },
      "source": [
        "<h2>Functions</h2>"
      ]
    },
    {
      "cell_type": "code",
      "metadata": {
        "id": "0DFDEZSTrD1C",
        "colab_type": "code",
        "colab": {}
      },
      "source": [
        "# Returns absolute difference between number1 and number2\n",
        "def abs_diff(number_1, number_2):\n",
        "  ### INSERT YOUR CODE HERE ###\n",
        "  if number_1 > number_2:\n",
        "    return number_1 - number_2\n",
        "  else:\n",
        "    return number_2 - number_1\n",
        "  \n",
        "\n",
        "  ### YOUR CODE ENDS ###"
      ],
      "execution_count": 0,
      "outputs": []
    },
    {
      "cell_type": "markdown",
      "metadata": {
        "id": "meuOcdsos2Et",
        "colab_type": "text"
      },
      "source": [
        "Once you have added your code in the previous cell. Run the cell below to test your code on given examples."
      ]
    },
    {
      "cell_type": "code",
      "metadata": {
        "id": "gwuYkkB-sx-x",
        "colab_type": "code",
        "outputId": "22a365e5-493f-4f1c-9dc9-22f9ede8d174",
        "colab": {
          "base_uri": "https://localhost:8080/",
          "height": 87
        }
      },
      "source": [
        "print(\"The absolute difference between {} and {} is {}. Your implementation returns {}\".format(2, 6, 4, abs_diff(2, 6)))\n",
        "print(\"The absolute difference between {} and {} is {}. Your implementation returns {}\".format(123, 10, 113, abs_diff(123, 10)))\n",
        "print(\"The absolute difference between {} and {} is {}. Your implementation returns {}\".format(23, 64, 41, abs_diff(23, 64)))\n",
        "print(\"The absolute difference between {} and {} is {}. Your implementation returns {}\".format(-15, 0, 15, abs_diff(-15, 0)))"
      ],
      "execution_count": 0,
      "outputs": [
        {
          "output_type": "stream",
          "text": [
            "The absolute difference between 2 and 6 is 4. Your implementation returns 4\n",
            "The absolute difference between 123 and 10 is 113. Your implementation returns 113\n",
            "The absolute difference between 23 and 64 is 41. Your implementation returns 41\n",
            "The absolute difference between -15 and 0 is 15. Your implementation returns 15\n"
          ],
          "name": "stdout"
        }
      ]
    },
    {
      "cell_type": "code",
      "metadata": {
        "id": "tSMWj3Efwegz",
        "colab_type": "code",
        "colab": {}
      },
      "source": [
        "# Returns true, if list contains 0 otherwise returns false\n",
        "def has_zero(list_of_numbers):\n",
        "  ### INSERT YOUR CODE HERE ###\n",
        "\n",
        "  list_has_zero = False\n",
        "  for number in list_of_numbers:\n",
        "    if number == 0:\n",
        "      list_has_zero = True\n",
        "\n",
        "  return list_has_zero\n",
        "  \n",
        "\n",
        "  ### YOUR CODE ENDS ###"
      ],
      "execution_count": 0,
      "outputs": []
    },
    {
      "cell_type": "markdown",
      "metadata": {
        "colab_type": "text",
        "id": "mb-WreI_xDD3"
      },
      "source": [
        "Once you have added your code in the previous cell. Run the cell below to test your code on given examples."
      ]
    },
    {
      "cell_type": "code",
      "metadata": {
        "colab_type": "code",
        "id": "e6IYOsLzxFaM",
        "outputId": "af2f61d0-e934-4533-9a37-1732333d0e91",
        "colab": {
          "base_uri": "https://localhost:8080/",
          "height": 87
        }
      },
      "source": [
        "print(\"Answer is {} for list {}. Your implementation returns {}\".format(False, [1, 2, 3], has_zero([1, 2, 3])))\n",
        "print(\"Answer is {} for list {}. Your implementation returns {}\".format(True, [34, 0, -23, 0, 32], has_zero([34, -23, 0, 32])))\n",
        "print(\"Answer is {} for list {}. Your implementation returns {}\".format(True, [0, 34, 78, 2, 3], has_zero([0, 34, 78, 2, 3])))\n",
        "print(\"Answer is {} for list {}. Your implementation returns {}\".format(True, [-23, 2, 56, 0], has_zero([-23, 2, 56, 0])))"
      ],
      "execution_count": 0,
      "outputs": [
        {
          "output_type": "stream",
          "text": [
            "Answer is False for list [1, 2, 3]. Your implementation returns False\n",
            "Answer is True for list [34, 0, -23, 0, 32]. Your implementation returns True\n",
            "Answer is True for list [0, 34, 78, 2, 3]. Your implementation returns True\n",
            "Answer is True for list [-23, 2, 56, 0]. Your implementation returns True\n"
          ],
          "name": "stdout"
        }
      ]
    },
    {
      "cell_type": "markdown",
      "metadata": {
        "id": "HQsO-hVUyfRQ",
        "colab_type": "text"
      },
      "source": [
        "<h2>Classes and Objects</h2>\n",
        "\n",
        "In the below cell, write a class for your (actual or imaginary) pet. Following requirements should be fulfilled:\n",
        "\n",
        "*   The class should have atleast three attributes\n",
        "*   The class should have atleast three methods, apart from __init__\n",
        "*   Atleast one of the three methods should take some parameter and use it\n",
        "\n"
      ]
    },
    {
      "cell_type": "code",
      "metadata": {
        "id": "cYi30NKvykO0",
        "colab_type": "code",
        "colab": {}
      },
      "source": [
        "\n",
        "### INSERT YOUR CODE HERE ###\n",
        "\n",
        "\n",
        "class Pets:\n",
        "  def __init__(self, animal):\n",
        "    self.animal = animal\n",
        "# Function to analyze what meal needed by the pet\n",
        "  def meal_repository(self, meal_time):\n",
        "    \n",
        "    if self.animal == \"Rabbit\":\n",
        "        \n",
        "        Rabbit_breakfast = \"fresh grass\"\n",
        "        Rabbit_lunch = \"fresh veg\"\n",
        "        Rabbit_dinner = \"high-fibre pellets\"\n",
        "        suggested_feed = \"0\"\n",
        "\n",
        "        if meal_time == \"breakfast\":\n",
        "            suggested_feed = Rabbit_breakfast\n",
        "        elif meal_time == \"lunch\":\n",
        "            suggested_feed = Rabbit_lunch\n",
        "        elif meal_time == \"dinner\":\n",
        "            suggested_feed = Rabbit_dinner\n",
        "                \n",
        "        print(\"For your pet\", self.animal, \", needs food for its \", meal_time, \"time and needs to be served with\", suggested_feed)\n",
        "\n",
        "    if self.animal == \"Cat\":\n",
        "        \n",
        "        Cat_breakfast = \"fresh grass\"\n",
        "        Cat_lunch = \"fresh veg\"\n",
        "        Cat_dinner = \"high-fibre pellets\"\n",
        "        suggested_feed = \"0\"\n",
        "\n",
        "        if meal_time == \"breakfast\":\n",
        "            suggested_feed = Cat_breakfast\n",
        "        elif meal_time == \"lunch\":\n",
        "            suggested_feed = Cat_lunch\n",
        "        elif meal_time == \"dinner\":\n",
        "            suggested_feed = Cat_dinner\n",
        "                \n",
        "        print(\"For your pet\", self.animal, \", needs food for its \", meal_time, \"time and needs to be served with\", suggested_feed)\n",
        "\n",
        "    if self.animal == \"Mice\":\n",
        "        \n",
        "        Mice__breakfast = \"fresh grass\"\n",
        "        Mice__lunch = \"fresh veg\"\n",
        "        Mice__dinner = \"high-fibre pellets\"\n",
        "        suggested_feed = \"0\"\n",
        "\n",
        "        if meal_time == \"breakfast\":\n",
        "            suggested_feed = Mice__breakfast\n",
        "        elif meal_time == \"lunch\":\n",
        "            suggested_feed = Mice__lunch\n",
        "        elif meal_time == \"dinner\":\n",
        "            suggested_feed = Mice__dinner\n",
        "                \n",
        "        print(\"For your pet\", self.animal, \", needs food for its \", meal_time, \"time and needs to be served with\", suggested_feed)\n",
        "# function for toys needed by which pet for playing\n",
        "  def pet_toys(self):\n",
        "    \n",
        "        if self.animal == \"Rabbit\":\n",
        "            \n",
        "            Rabbit_toy = \"woven grass ball\"\n",
        "            \n",
        "            print(\"Your pet\", self.animal, \", needs to play with \", Rabbit_toy)\n",
        "\n",
        "        if self.animal == \"Cat\":\n",
        "            \n",
        "            Cat_toy = \"Ball\"\n",
        "            \n",
        "            print(\"Your pet\", self.animal, \", needs to play with \", Cat_toy)\n",
        "\n",
        "        if self.animal == \"Mice\":\n",
        "            \n",
        "            Mice_toy = \"rawhide chews\"\n",
        "            \n",
        "            print(\"Your pet\", self.animal, \", needs to play with \", Mice_toy)\n",
        "# Function for which pet sounds what type of voice for calling\n",
        "  def pet_sound(self):\n",
        "    \n",
        "        if self.animal == \"Rabbit\":\n",
        "            \n",
        "            Rabbit_sound = \"Squeak\"\n",
        "            \n",
        "            print(\"Your pet\", self.animal, \", sounds as\", Rabbit_sound)\n",
        "\n",
        "        if self.animal == \"Cat\":\n",
        "            \n",
        "            Cat_sound = \"Mew\"\n",
        "            \n",
        "            print(\"Your pet\", self.animal, \", sounds as\", Cat_sound)\n",
        "\n",
        "        if self.animal == \"Mice\":\n",
        "            \n",
        "            Mice_sound = \"Squeal\"\n",
        "            \n",
        "            print(\"Your pet\", self.animal, \", sounds as\", Mice_sound)\n",
        "\n",
        "\n",
        "### YOUR CODE ENDS ###"
      ],
      "execution_count": 0,
      "outputs": []
    },
    {
      "cell_type": "markdown",
      "metadata": {
        "id": "GozuaVnOzbkH",
        "colab_type": "text"
      },
      "source": [
        "In the below cell, instantiate an object of your class and show examples of how you'd use it."
      ]
    },
    {
      "cell_type": "code",
      "metadata": {
        "id": "8lR64Xr3zWSp",
        "colab_type": "code",
        "outputId": "50183141-147d-4aec-a3dd-2b339c24b8cc",
        "colab": {
          "base_uri": "https://localhost:8080/",
          "height": 101
        }
      },
      "source": [
        "### INSERT YOUR CODE HERE ###\n",
        "\n",
        "# Provide any of the three pets that are Raabit / Cat / Mice into following code and fetch information for meal, playings toys and their sound\n",
        "\n",
        "a = Pets(\"Rabbit\")\n",
        "a.meal_repository(\"breakfast\")\n",
        "a.meal_repository(\"lunch\")\n",
        "a.meal_repository(\"dinner\")\n",
        "a.pet_toys()\n",
        "a.pet_sound()\n",
        "\n",
        "### YOUR CODE ENDS ###"
      ],
      "execution_count": 4,
      "outputs": [
        {
          "output_type": "stream",
          "text": [
            "For your pet Rabbit , needs food for its  breakfast time and needs to be served with fresh grass\n",
            "For your pet Rabbit , needs food for its  lunch time and needs to be served with fresh veg\n",
            "For your pet Rabbit , needs food for its  dinner time and needs to be served with high-fibre pellets\n",
            "Your pet Rabbit , needs to play with  woven grass ball\n",
            "Your pet Rabbit , sounds as Squeak\n"
          ],
          "name": "stdout"
        }
      ]
    }
  ]
}